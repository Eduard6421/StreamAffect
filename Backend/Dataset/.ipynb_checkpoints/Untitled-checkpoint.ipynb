{
 "cells": [
  {
   "cell_type": "code",
   "execution_count": 1,
   "metadata": {},
   "outputs": [],
   "source": [
    "import os\n",
    "import cv2 as cv\n",
    "import glob"
   ]
  },
  {
   "cell_type": "code",
   "execution_count": null,
   "metadata": {},
   "outputs": [],
   "source": [
    "folder = \"anger\""
   ]
  },
  {
   "cell_type": "code",
   "execution_count": null,
   "metadata": {},
   "outputs": [],
   "source": [
    "def read_images():\n",
    "    names = glob.glob(\"*.*\")\n",
    "    names.sort(key=lambda name: [int(s) for s in re.findall(r'\\d+', name)][0])\n",
    "    return names"
   ]
  },
  {
   "cell_type": "code",
   "execution_count": null,
   "metadata": {},
   "outputs": [],
   "source": [
    "def get_nth_image(images, idx):\n",
    "    \n",
    "    dim = (416, 416)\n",
    "    \n",
    "    new_img = images[idx], cv.imread(images[idx], cv.IMREAD_COLOR)\n",
    "    new_img = cv.resize(new_img, dim)\n",
    "    \n",
    "    return new_img"
   ]
  },
  {
   "cell_type": "code",
   "execution_count": null,
   "metadata": {},
   "outputs": [],
   "source": [
    "def save_image(image, name):\n",
    "    base_folder = (folder + \"/\")\n",
    "    cv.imwrite((base_folder + name + \".jpg\"), image)"
   ]
  },
  {
   "cell_type": "code",
   "execution_count": null,
   "metadata": {},
   "outputs": [],
   "source": [
    "img_names = read_images()\n",
    "\n",
    "for i in range(len(img_names)):\n",
    "    \n",
    "    img = get_nth_image(img_names, i)\n",
    "    save_image(img, (folder + str(i + 1)))\n"
   ]
  }
 ],
 "metadata": {
  "kernelspec": {
   "display_name": "Python 3",
   "language": "python",
   "name": "python3"
  },
  "language_info": {
   "codemirror_mode": {
    "name": "ipython",
    "version": 3
   },
   "file_extension": ".py",
   "mimetype": "text/x-python",
   "name": "python",
   "nbconvert_exporter": "python",
   "pygments_lexer": "ipython3",
   "version": "3.7.6"
  }
 },
 "nbformat": 4,
 "nbformat_minor": 4
}
